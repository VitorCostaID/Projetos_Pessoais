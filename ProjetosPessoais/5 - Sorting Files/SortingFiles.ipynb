{
 "cells": [
  {
   "cell_type": "markdown",
   "metadata": {},
   "source": [
    "## File Sorter"
   ]
  },
  {
   "cell_type": "code",
   "execution_count": 4,
   "metadata": {},
   "outputs": [],
   "source": [
    "import os, shutil\n"
   ]
  },
  {
   "cell_type": "code",
   "execution_count": 14,
   "metadata": {},
   "outputs": [],
   "source": [
    "path = r\"C:/Users/hsopg/Downloads/\"\n",
    "\n",
    "file_name = os.listdir(path)"
   ]
  },
  {
   "cell_type": "code",
   "execution_count": 12,
   "metadata": {},
   "outputs": [],
   "source": [
    "folder_names = ['imagens', 'executaveis', 'pdf', 'csv']\n",
    "\n",
    "for loop in range(0, 4):\n",
    "    if not os.path.exists(path + folder_names[loop]):\n",
    "        os.makedirs(path + folder_names[loop])"
   ]
  },
  {
   "cell_type": "code",
   "execution_count": 17,
   "metadata": {},
   "outputs": [],
   "source": [
    "for file in file_name:\n",
    "    if \".png\" in file and not os.path.exists(path + 'imagens/' + file):\n",
    "        shutil.move(path + file, path + 'imagens/' + file)\n",
    "    elif \".exe\" in file and not os.path.exists(path + 'executaveis/' + file):\n",
    "        shutil.move(path + file, path + 'executaveis/' + file)\n",
    "    elif \".pdf\" in file and not os.path.exists(path + 'pdf/' + file):\n",
    "        shutil.move(path + file, path + 'pdf/' + file)\n",
    "    elif \".csv\" in file and not os.path.exists(path + 'csv/' + file):\n",
    "        shutil.move(path + file, path + 'csv/' + file)"
   ]
  }
 ],
 "metadata": {
  "kernelspec": {
   "display_name": "Python 3",
   "language": "python",
   "name": "python3"
  },
  "language_info": {
   "codemirror_mode": {
    "name": "ipython",
    "version": 3
   },
   "file_extension": ".py",
   "mimetype": "text/x-python",
   "name": "python",
   "nbconvert_exporter": "python",
   "pygments_lexer": "ipython3",
   "version": "3.13.0"
  }
 },
 "nbformat": 4,
 "nbformat_minor": 2
}
