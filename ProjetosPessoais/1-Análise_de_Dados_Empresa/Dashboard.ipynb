{
 "cells": [
  {
   "cell_type": "markdown",
   "metadata": {},
   "source": [
    "## Designado para Treinar Análise de Dados e Dashboard\n",
    "\n",
    "#### Análises feitas com Python"
   ]
  },
  {
   "cell_type": "code",
   "execution_count": 16,
   "metadata": {},
   "outputs": [
    {
     "data": {
      "text/html": [
       "<div>\n",
       "<style scoped>\n",
       "    .dataframe tbody tr th:only-of-type {\n",
       "        vertical-align: middle;\n",
       "    }\n",
       "\n",
       "    .dataframe tbody tr th {\n",
       "        vertical-align: top;\n",
       "    }\n",
       "\n",
       "    .dataframe thead th {\n",
       "        text-align: right;\n",
       "    }\n",
       "</style>\n",
       "<table border=\"1\" class=\"dataframe\">\n",
       "  <thead>\n",
       "    <tr style=\"text-align: right;\">\n",
       "      <th></th>\n",
       "      <th>Transaction_ID</th>\n",
       "      <th>Store_ID</th>\n",
       "      <th>Category</th>\n",
       "      <th>Transaction_Amount</th>\n",
       "      <th>Quantity</th>\n",
       "      <th>Date</th>\n",
       "      <th>Customer_Age</th>\n",
       "      <th>Payment_Method</th>\n",
       "    </tr>\n",
       "  </thead>\n",
       "  <tbody>\n",
       "    <tr>\n",
       "      <th>0</th>\n",
       "      <td>1</td>\n",
       "      <td>52</td>\n",
       "      <td>Electronics</td>\n",
       "      <td>482.70</td>\n",
       "      <td>3</td>\n",
       "      <td>2023-11-27</td>\n",
       "      <td>55</td>\n",
       "      <td>Debit Card</td>\n",
       "    </tr>\n",
       "    <tr>\n",
       "      <th>1</th>\n",
       "      <td>2</td>\n",
       "      <td>93</td>\n",
       "      <td>Books</td>\n",
       "      <td>221.98</td>\n",
       "      <td>6</td>\n",
       "      <td>2023-03-18</td>\n",
       "      <td>47</td>\n",
       "      <td>Credit Card</td>\n",
       "    </tr>\n",
       "    <tr>\n",
       "      <th>2</th>\n",
       "      <td>3</td>\n",
       "      <td>15</td>\n",
       "      <td>Groceries</td>\n",
       "      <td>10.78</td>\n",
       "      <td>5</td>\n",
       "      <td>2023-06-15</td>\n",
       "      <td>50</td>\n",
       "      <td>Online Payment</td>\n",
       "    </tr>\n",
       "    <tr>\n",
       "      <th>3</th>\n",
       "      <td>4</td>\n",
       "      <td>72</td>\n",
       "      <td>Clothing</td>\n",
       "      <td>420.48</td>\n",
       "      <td>3</td>\n",
       "      <td>2023-06-25</td>\n",
       "      <td>63</td>\n",
       "      <td>Online Payment</td>\n",
       "    </tr>\n",
       "    <tr>\n",
       "      <th>4</th>\n",
       "      <td>5</td>\n",
       "      <td>61</td>\n",
       "      <td>Electronics</td>\n",
       "      <td>303.84</td>\n",
       "      <td>2</td>\n",
       "      <td>2023-10-02</td>\n",
       "      <td>59</td>\n",
       "      <td>Cash</td>\n",
       "    </tr>\n",
       "    <tr>\n",
       "      <th>...</th>\n",
       "      <td>...</td>\n",
       "      <td>...</td>\n",
       "      <td>...</td>\n",
       "      <td>...</td>\n",
       "      <td>...</td>\n",
       "      <td>...</td>\n",
       "      <td>...</td>\n",
       "      <td>...</td>\n",
       "    </tr>\n",
       "    <tr>\n",
       "      <th>29995</th>\n",
       "      <td>29996</td>\n",
       "      <td>48</td>\n",
       "      <td>Books</td>\n",
       "      <td>497.62</td>\n",
       "      <td>3</td>\n",
       "      <td>2023-02-10</td>\n",
       "      <td>33</td>\n",
       "      <td>Debit Card</td>\n",
       "    </tr>\n",
       "    <tr>\n",
       "      <th>29996</th>\n",
       "      <td>29997</td>\n",
       "      <td>50</td>\n",
       "      <td>Books</td>\n",
       "      <td>25.86</td>\n",
       "      <td>7</td>\n",
       "      <td>2023-01-13</td>\n",
       "      <td>38</td>\n",
       "      <td>Online Payment</td>\n",
       "    </tr>\n",
       "    <tr>\n",
       "      <th>29997</th>\n",
       "      <td>29998</td>\n",
       "      <td>81</td>\n",
       "      <td>Sports</td>\n",
       "      <td>275.26</td>\n",
       "      <td>6</td>\n",
       "      <td>2023-05-05</td>\n",
       "      <td>34</td>\n",
       "      <td>Debit Card</td>\n",
       "    </tr>\n",
       "    <tr>\n",
       "      <th>29998</th>\n",
       "      <td>29999</td>\n",
       "      <td>44</td>\n",
       "      <td>Clothing</td>\n",
       "      <td>307.94</td>\n",
       "      <td>1</td>\n",
       "      <td>2023-01-27</td>\n",
       "      <td>49</td>\n",
       "      <td>Debit Card</td>\n",
       "    </tr>\n",
       "    <tr>\n",
       "      <th>29999</th>\n",
       "      <td>30000</td>\n",
       "      <td>59</td>\n",
       "      <td>Home Goods</td>\n",
       "      <td>388.36</td>\n",
       "      <td>2</td>\n",
       "      <td>2023-06-06</td>\n",
       "      <td>31</td>\n",
       "      <td>Debit Card</td>\n",
       "    </tr>\n",
       "  </tbody>\n",
       "</table>\n",
       "<p>30000 rows × 8 columns</p>\n",
       "</div>"
      ],
      "text/plain": [
       "       Transaction_ID  Store_ID     Category  Transaction_Amount  Quantity  \\\n",
       "0                   1        52  Electronics              482.70         3   \n",
       "1                   2        93        Books              221.98         6   \n",
       "2                   3        15    Groceries               10.78         5   \n",
       "3                   4        72     Clothing              420.48         3   \n",
       "4                   5        61  Electronics              303.84         2   \n",
       "...               ...       ...          ...                 ...       ...   \n",
       "29995           29996        48        Books              497.62         3   \n",
       "29996           29997        50        Books               25.86         7   \n",
       "29997           29998        81       Sports              275.26         6   \n",
       "29998           29999        44     Clothing              307.94         1   \n",
       "29999           30000        59   Home Goods              388.36         2   \n",
       "\n",
       "             Date  Customer_Age  Payment_Method  \n",
       "0      2023-11-27            55      Debit Card  \n",
       "1      2023-03-18            47     Credit Card  \n",
       "2      2023-06-15            50  Online Payment  \n",
       "3      2023-06-25            63  Online Payment  \n",
       "4      2023-10-02            59            Cash  \n",
       "...           ...           ...             ...  \n",
       "29995  2023-02-10            33      Debit Card  \n",
       "29996  2023-01-13            38  Online Payment  \n",
       "29997  2023-05-05            34      Debit Card  \n",
       "29998  2023-01-27            49      Debit Card  \n",
       "29999  2023-06-06            31      Debit Card  \n",
       "\n",
       "[30000 rows x 8 columns]"
      ]
     },
     "execution_count": 16,
     "metadata": {},
     "output_type": "execute_result"
    }
   ],
   "source": [
    "# Importar Arquivos\n",
    "\n",
    "import pandas as pd\n",
    "import plotly.express as px\n",
    "import streamlit as st\n",
    "\n",
    "Tabela = pd.read_csv('assets/company_transactions.csv')\n",
    "\n",
    "Tabela"
   ]
  },
  {
   "cell_type": "code",
   "execution_count": 17,
   "metadata": {},
   "outputs": [
    {
     "name": "stdout",
     "output_type": "stream",
     "text": [
      "<class 'pandas.core.frame.DataFrame'>\n",
      "RangeIndex: 30000 entries, 0 to 29999\n",
      "Data columns (total 7 columns):\n",
      " #   Column              Non-Null Count  Dtype  \n",
      "---  ------              --------------  -----  \n",
      " 0   Store_ID            30000 non-null  int64  \n",
      " 1   Category            30000 non-null  object \n",
      " 2   Transaction_Amount  30000 non-null  float64\n",
      " 3   Quantity            30000 non-null  int64  \n",
      " 4   Date                30000 non-null  object \n",
      " 5   Customer_Age        30000 non-null  int64  \n",
      " 6   Payment_Method      30000 non-null  object \n",
      "dtypes: float64(1), int64(3), object(3)\n",
      "memory usage: 1.6+ MB\n",
      "None\n"
     ]
    }
   ],
   "source": [
    "# Limpeza #\n",
    "\n",
    "# Excluir Tabelas Inúteis para análise #\n",
    "\n",
    "Tabela = Tabela.drop(columns='Transaction_ID')\n",
    "\n",
    "# Excluir linhas vazias #\n",
    "\n",
    "Tabela = Tabela.dropna(how='all')\n",
    "\n",
    "print(Tabela.info())\n",
    "\n",
    "# Não há linhas completamente vazias "
   ]
  },
  {
   "cell_type": "code",
   "execution_count": 18,
   "metadata": {},
   "outputs": [
    {
     "data": {
      "text/plain": [
       "'R$ 38.202.412,82'"
      ]
     },
     "execution_count": 18,
     "metadata": {},
     "output_type": "execute_result"
    }
   ],
   "source": [
    "# Pegar o valor total de faturamento # \n",
    "\n",
    "Tabela['Total'] = Tabela['Transaction_Amount'] * Tabela['Quantity']\n",
    "\n",
    "Tabela_Total = Tabela['Total'].sum()\n",
    "\n",
    "Tabela_Total = f\"R$ {Tabela_Total:,.2f}\".replace(\",\", \"v\").replace(\".\", \",\").replace(\"v\", \".\")\n",
    "\n",
    "Tabela_Total"
   ]
  },
  {
   "cell_type": "code",
   "execution_count": 19,
   "metadata": {},
   "outputs": [
    {
     "data": {
      "text/plain": [
       "Category\n",
       "Books          R$ 6.438.366,81\n",
       "Groceries      R$ 6.412.738,27\n",
       "Sports         R$ 6.363.542,17\n",
       "Electronics    R$ 6.336.986,57\n",
       "Home Goods     R$ 6.333.314,66\n",
       "Clothing       R$ 6.317.464,34\n",
       "Name: Total, dtype: object"
      ]
     },
     "execution_count": 19,
     "metadata": {},
     "output_type": "execute_result"
    }
   ],
   "source": [
    "# Faturamento por categoria de produtos #\n",
    "\n",
    "Lucro_Categorias = Tabela.groupby('Category')['Total'].sum().sort_values(ascending=False)\n",
    "\n",
    "Lucro_Categorias = Lucro_Categorias.apply(lambda x: f\"R$ {x:,.2f}\".replace(\",\", \"v\").replace(\".\", \",\").replace(\"v\", \".\"))\n",
    "\n",
    "Lucro_Categorias"
   ]
  },
  {
   "cell_type": "code",
   "execution_count": 20,
   "metadata": {},
   "outputs": [
    {
     "data": {
      "text/plain": [
       "AnoMes\n",
       "2023-03    R$ 3.330.903,57\n",
       "2023-10    R$ 3.310.613,48\n",
       "2023-08    R$ 3.277.691,56\n",
       "2023-12    R$ 3.262.059,99\n",
       "2023-11    R$ 3.236.832,26\n",
       "2023-01    R$ 3.226.633,78\n",
       "2023-04    R$ 3.199.094,90\n",
       "2023-05    R$ 3.123.702,91\n",
       "2023-06    R$ 3.104.892,78\n",
       "2023-02    R$ 3.048.512,41\n",
       "2023-07    R$ 3.042.273,90\n",
       "2023-09    R$ 3.039.201,28\n",
       "Freq: M, Name: Total, dtype: object"
      ]
     },
     "execution_count": 20,
     "metadata": {},
     "output_type": "execute_result"
    }
   ],
   "source": [
    "# Meses com mais vendas # \n",
    "\n",
    "# 1. Converter a coluna de datas para o tipo datetime\n",
    "Tabela['Date'] = pd.to_datetime(Tabela['Date'])\n",
    "\n",
    "# 2. Criar uma nova coluna só com o mês\n",
    "Tabela['AnoMes'] = Tabela['Date'].dt.to_period('M') \n",
    "\n",
    "# 3. Agrupar coluna e somar os totais\n",
    "Vendas_Mensais = Tabela.groupby('AnoMes')['Total'].sum().sort_values(ascending=False)\n",
    "\n",
    "# 4. Formatar p/ brl\n",
    "Vendas_Mensais = Vendas_Mensais.apply(lambda x: f\"R$ {x:,.2f}\".replace(\",\", \"v\").replace(\".\", \",\").replace(\"v\", \".\"))\n",
    "\n",
    "Vendas_Mensais\n"
   ]
  },
  {
   "cell_type": "code",
   "execution_count": 21,
   "metadata": {},
   "outputs": [
    {
     "data": {
      "text/plain": [
       "Payment_Method\n",
       "Cash              R$ 9.692.350,64\n",
       "Credit Card       R$ 9.554.235,27\n",
       "Online Payment    R$ 9.488.831,11\n",
       "Debit Card        R$ 9.466.995,80\n",
       "Name: Total, dtype: object"
      ]
     },
     "execution_count": 21,
     "metadata": {},
     "output_type": "execute_result"
    }
   ],
   "source": [
    "# Formas de pagamentos mais comuns #\n",
    "\n",
    "# 1. Agrupar coluna e somar os totais\n",
    "Forma_Pagamentos = Tabela.groupby('Payment_Method')['Total'].sum().sort_values(ascending=False)\n",
    "\n",
    "Forma_Pagamentos = Forma_Pagamentos.apply(lambda x: f\"R$ {x:,.2f}\".replace(\",\", \"v\").replace(\".\", \",\").replace(\"v\", \".\"))\n",
    "\n",
    "Forma_Pagamentos"
   ]
  }
 ],
 "metadata": {
  "kernelspec": {
   "display_name": "base",
   "language": "python",
   "name": "python3"
  },
  "language_info": {
   "codemirror_mode": {
    "name": "ipython",
    "version": 3
   },
   "file_extension": ".py",
   "mimetype": "text/x-python",
   "name": "python",
   "nbconvert_exporter": "python",
   "pygments_lexer": "ipython3",
   "version": "3.12.7"
  }
 },
 "nbformat": 4,
 "nbformat_minor": 2
}
