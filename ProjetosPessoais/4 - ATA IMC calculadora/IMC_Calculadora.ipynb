{
 "cells": [
  {
   "cell_type": "markdown",
   "metadata": {},
   "source": [
    "## Calculadora de IMC"
   ]
  },
  {
   "cell_type": "code",
   "execution_count": null,
   "metadata": {},
   "outputs": [],
   "source": [
    "# Objetivo: Constuir uma calculadora de IMC com Python"
   ]
  },
  {
   "cell_type": "code",
   "execution_count": 7,
   "metadata": {},
   "outputs": [
    {
     "name": "stdout",
     "output_type": "stream",
     "text": [
      "26.709401709401707\n",
      "Sobrepeso\n"
     ]
    }
   ],
   "source": [
    "massa = -1\n",
    "altura = -1\n",
    "\n",
    "while(massa < 0 and altura < 0):\n",
    "    massa = int(input(\"Digite sua massa: \"))\n",
    "    altura = int(input(\"Digite sua altura: \"))\n",
    "\n",
    "IMC = massa/((altura/100))**2\n",
    "\n",
    "print(IMC)\n",
    "\n",
    "if(IMC < 18.5):\n",
    "    print(\"Magreza\")\n",
    "elif(IMC >= 18.5 and IMC <= 24.9):\n",
    "    print(\"Normal\")\n",
    "elif(IMC >= 25 and IMC <= 29.9):\n",
    "    print(\"Sobrepeso\")\n",
    "elif(IMC >= 30 and IMC <= 39.9):\n",
    "    print(\"Obesidade\")\n",
    "elif(IMC >= 40):\n",
    "    print(\"Obesidade Grave\")\n",
    "\n",
    "\n"
   ]
  }
 ],
 "metadata": {
  "kernelspec": {
   "display_name": "Python 3",
   "language": "python",
   "name": "python3"
  },
  "language_info": {
   "codemirror_mode": {
    "name": "ipython",
    "version": 3
   },
   "file_extension": ".py",
   "mimetype": "text/x-python",
   "name": "python",
   "nbconvert_exporter": "python",
   "pygments_lexer": "ipython3",
   "version": "3.13.0"
  }
 },
 "nbformat": 4,
 "nbformat_minor": 2
}
